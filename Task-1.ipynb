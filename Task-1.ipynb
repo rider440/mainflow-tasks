{
 "cells": [
  {
   "cell_type": "code",
   "execution_count": 1,
   "id": "40370ea2-2953-4d6d-9ada-d64426f8e466",
   "metadata": {},
   "outputs": [
    {
     "name": "stdout",
     "output_type": "stream",
     "text": [
      "Hello World using Python\n"
     ]
    }
   ],
   "source": [
    "# Hello World using Python\n",
    "print(\"Hello World using Python\")"
   ]
  },
  {
   "cell_type": "code",
   "execution_count": 58,
   "id": "8207ffda-f5e4-4576-a04b-37acd4df51af",
   "metadata": {},
   "outputs": [
    {
     "name": "stdin",
     "output_type": "stream",
     "text": [
      "Enter anything: uygifd\n"
     ]
    },
    {
     "name": "stdout",
     "output_type": "stream",
     "text": [
      "you enter: uygifd\n",
      "<class 'str'>\n"
     ]
    }
   ],
   "source": [
    "# print user's input data and it's type\n",
    "a=input(\"Enter anything:\")\n",
    "print(\"you enter:\",a)\n",
    "print(type(a))"
   ]
  },
  {
   "cell_type": "code",
   "execution_count": 8,
   "id": "2d628754-6032-47c0-96b1-4d00561dc9e8",
   "metadata": {},
   "outputs": [
    {
     "name": "stdout",
     "output_type": "stream",
     "text": [
      "Sum= 17\n",
      "Sub 3\n",
      "Mul= 70\n",
      "div= 1\n",
      "remainder= 3\n"
     ]
    }
   ],
   "source": [
    "# Arithmatic opertions\n",
    "a=10\n",
    "b=7\n",
    "c=a+b\n",
    "d=a-b\n",
    "e=a//b\n",
    "f=a*b\n",
    "m=a%b\n",
    "print(\"Sum=\",c)\n",
    "print(\"Sub\",d)\n",
    "print(\"Mul=\",f)\n",
    "print(\"div=\",e)\n",
    "print(\"remainder=\",m)"
   ]
  },
  {
   "cell_type": "code",
   "execution_count": 14,
   "id": "df01c88e-a4e4-4797-a9a0-da0558920e05",
   "metadata": {},
   "outputs": [
    {
     "name": "stdout",
     "output_type": "stream",
     "text": [
      "Numbers are: 3400 , -204 and  905\n",
      "3400 is big\n"
     ]
    }
   ],
   "source": [
    "# greatest among three numbers\n",
    "a=3400\n",
    "b=-204\n",
    "c=905\n",
    "print(\"Numbers are:\",a,\",\",b,\"and \",c)\n",
    "if(a>b and a>c):\n",
    "    print(a,\"is big\")\n",
    "elif(b>c and b>a):\n",
    "    print(b,\"is big\")\n",
    "else:\n",
    "    print(c,\"is big\")"
   ]
  },
  {
   "cell_type": "code",
   "execution_count": 24,
   "id": "1948bfe9-9b04-4644-b6ba-f136353586c8",
   "metadata": {},
   "outputs": [
    {
     "name": "stdin",
     "output_type": "stream",
     "text": [
      "Enter a number: 6\n"
     ]
    },
    {
     "name": "stdout",
     "output_type": "stream",
     "text": [
      "factorial of 6 is 720\n"
     ]
    }
   ],
   "source": [
    "# factorial of given number\n",
    "num=int(input(\"Enter a number:\"))\n",
    "fact=1\n",
    "for i in range(1,num+1):\n",
    "    fact=fact*i\n",
    "print(\"factorial of\",num,\"is\",fact)    "
   ]
  },
  {
   "cell_type": "code",
   "execution_count": 29,
   "id": "d19f586e-66a5-4e31-9b25-af26b7d336a1",
   "metadata": {},
   "outputs": [
    {
     "name": "stdin",
     "output_type": "stream",
     "text": [
      "Enter Nth term: 7\n"
     ]
    },
    {
     "name": "stdout",
     "output_type": "stream",
     "text": [
      "0\n",
      "1\n",
      "1\n",
      "2\n",
      "3\n",
      "5\n",
      "8\n"
     ]
    }
   ],
   "source": [
    "# fibonacci sequence\n",
    "num=int(input(\"Enter Nth term:\"))\n",
    "n1=0\n",
    "n2=1\n",
    "if(num==1):\n",
    "    print(n1)\n",
    "else:\n",
    "    print(n1)\n",
    "    print(n2)\n",
    "    for i in range(2,num):\n",
    "        temp=n1+n2\n",
    "        n1=n2\n",
    "        n2=temp\n",
    "        print(temp)"
   ]
  },
  {
   "cell_type": "code",
   "execution_count": 30,
   "id": "18dba355-2bf6-48af-919d-651c123aed2a",
   "metadata": {},
   "outputs": [
    {
     "name": "stdout",
     "output_type": "stream",
     "text": [
      "@Main_Flow_Technology_Internship\n",
      "@Main_Flow_Technology_Internship\n",
      "@Main_Flow_Technology_Internship\n",
      "@Main_Flow_Technology_Internship\n",
      "@Main_Flow_Technology_Internship\n"
     ]
    }
   ],
   "source": [
    "# print @Main_Flow_Technology_Internship 5 times using for loop\n",
    "for i in range(0,5):\n",
    "    print(\"@Main_Flow_Technology_Internship\")"
   ]
  },
  {
   "cell_type": "code",
   "execution_count": 31,
   "id": "39ac68a0-6811-4afa-9680-e44158daa30f",
   "metadata": {},
   "outputs": [
    {
     "name": "stdout",
     "output_type": "stream",
     "text": [
      "2\n",
      "3\n",
      "4\n",
      "5\n",
      "6\n",
      "7\n",
      "8\n",
      "9\n",
      "10\n"
     ]
    }
   ],
   "source": [
    "# print 2 to 10 using while loop\n",
    "i=2\n",
    "while(i<=10):\n",
    "    print(i)\n",
    "    i=i+1"
   ]
  },
  {
   "cell_type": "code",
   "execution_count": 38,
   "id": "95b6ec57-15aa-4cc8-aacf-1a90f29df5a6",
   "metadata": {},
   "outputs": [
    {
     "name": "stdout",
     "output_type": "stream",
     "text": [
      "0 1 2 4 5 6 7 8 "
     ]
    }
   ],
   "source": [
    "# use of break and continue\n",
    "for i in range(0,11):\n",
    "    if(i==3):\n",
    "        continue\n",
    "    elif(i==9):\n",
    "        break\n",
    "    else:\n",
    "        print(i,end=\" \")"
   ]
  },
  {
   "cell_type": "code",
   "execution_count": 53,
   "id": "af44e348-8b2c-417a-8f7b-84a9a88eff35",
   "metadata": {},
   "outputs": [
    {
     "name": "stdout",
     "output_type": "stream",
     "text": [
      "[2, 4, 6, 8, 10, 11, 13]\n",
      "[2, 4, 6, 56, 8, 10, 11, 13]\n",
      "[2, 4, 6, 8, 10, 11, 13]\n",
      "[13, 11, 10, 8, 6, 4, 2]\n",
      "[2, 4, 6, 8, 10, 11, 13]\n",
      "length of list is: 7\n",
      "minimum no. in list is: 2\n",
      "maximum no. in list is: 13\n",
      "[]\n"
     ]
    }
   ],
   "source": [
    "# use of list\n",
    "num_list=[2,4,6,8,10,11]\n",
    "num_list.append(13)\n",
    "print(num_list)\n",
    "num_list.insert(3,56)\n",
    "print(num_list)\n",
    "num_list.remove(56)\n",
    "print(num_list)\n",
    "num_list.reverse()\n",
    "print(num_list)\n",
    "num_list.sort()\n",
    "print(num_list)\n",
    "print(\"length of list is:\",len(num_list))\n",
    "print(\"minimum no. in list is:\",min(num_list))\n",
    "print(\"maximum no. in list is:\",max(num_list))\n",
    "num_list.clear()\n",
    "print(num_list)"
   ]
  },
  {
   "cell_type": "code",
   "execution_count": 54,
   "id": "6f9b27b9-bda4-4532-9f4a-10ded1f3ecc9",
   "metadata": {},
   "outputs": [
    {
     "name": "stdin",
     "output_type": "stream",
     "text": [
      "Enter 1st number: 45\n",
      "Enter 2nd number: 9478\n"
     ]
    },
    {
     "name": "stdout",
     "output_type": "stream",
     "text": [
      "sum of above numbers is: 9523\n"
     ]
    }
   ],
   "source": [
    "# print sum of 2 numbers using function\n",
    "def sum(m,n):\n",
    "    c=a+b\n",
    "    return c\n",
    "a=int(input(\"Enter 1st number:\"))\n",
    "b=int(input(\"Enter 2nd number:\"))\n",
    "print(\"sum of above numbers is:\",sum(a,b))"
   ]
  },
  {
   "cell_type": "code",
   "execution_count": 57,
   "id": "66230aa5-8fb5-4377-b343-fcc7b8d8ef32",
   "metadata": {},
   "outputs": [
    {
     "name": "stdout",
     "output_type": "stream",
     "text": [
      "(25, 45, 6, 3, 5, 'main', 'flow', 'internship', 465)\n",
      "second element of tuple is: 45\n"
     ]
    }
   ],
   "source": [
    "# use of tuple\n",
    "s_tuple=(25,45,6,3,5,'main','flow','internship',465)\n",
    "print(s_tuple)\n",
    "print(\"second element of tuple is:\",s_tuple[1])"
   ]
  }
 ],
 "metadata": {
  "kernelspec": {
   "display_name": "Python 3 (ipykernel)",
   "language": "python",
   "name": "python3"
  },
  "language_info": {
   "codemirror_mode": {
    "name": "ipython",
    "version": 3
   },
   "file_extension": ".py",
   "mimetype": "text/x-python",
   "name": "python",
   "nbconvert_exporter": "python",
   "pygments_lexer": "ipython3",
   "version": "3.12.6"
  }
 },
 "nbformat": 4,
 "nbformat_minor": 5
}
